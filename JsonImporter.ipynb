{
 "cells": [
  {
   "cell_type": "code",
   "execution_count": 5,
   "metadata": {},
   "outputs": [
    {
     "ename": "ValueError",
     "evalue": "arrays must all be same length",
     "output_type": "error",
     "traceback": [
      "\u001b[0;31m---------------------------------------------------------------------------\u001b[0m",
      "\u001b[0;31mValueError\u001b[0m                                Traceback (most recent call last)",
      "\u001b[1;32mUntitled-1.ipynb Cell 1'\u001b[0m in \u001b[0;36m<cell line: 2>\u001b[0;34m()\u001b[0m\n\u001b[1;32m      <a href='vscode-notebook-cell:Untitled-1.ipynb?jupyter-notebook#ch0000000untitled?line=0'>1</a>\u001b[0m \u001b[39mimport\u001b[39;00m \u001b[39mpandas\u001b[39;00m \u001b[39mas\u001b[39;00m \u001b[39mpd\u001b[39;00m\n\u001b[0;32m----> <a href='vscode-notebook-cell:Untitled-1.ipynb?jupyter-notebook#ch0000000untitled?line=1'>2</a>\u001b[0m df \u001b[39m=\u001b[39m pd\u001b[39m.\u001b[39;49mread_json(\u001b[39m'\u001b[39;49m\u001b[39m/Users/klaus/Documents/Alstin/founder.json\u001b[39;49m\u001b[39m'\u001b[39;49m)\n",
      "File \u001b[0;32m~/opt/miniconda3/lib/python3.8/site-packages/pandas/util/_decorators.py:199\u001b[0m, in \u001b[0;36mdeprecate_kwarg.<locals>._deprecate_kwarg.<locals>.wrapper\u001b[0;34m(*args, **kwargs)\u001b[0m\n\u001b[1;32m    197\u001b[0m     \u001b[39melse\u001b[39;00m:\n\u001b[1;32m    198\u001b[0m         kwargs[new_arg_name] \u001b[39m=\u001b[39m new_arg_value\n\u001b[0;32m--> 199\u001b[0m \u001b[39mreturn\u001b[39;00m func(\u001b[39m*\u001b[39;49margs, \u001b[39m*\u001b[39;49m\u001b[39m*\u001b[39;49mkwargs)\n",
      "File \u001b[0;32m~/opt/miniconda3/lib/python3.8/site-packages/pandas/util/_decorators.py:296\u001b[0m, in \u001b[0;36mdeprecate_nonkeyword_arguments.<locals>.decorate.<locals>.wrapper\u001b[0;34m(*args, **kwargs)\u001b[0m\n\u001b[1;32m    291\u001b[0m     msg \u001b[39m=\u001b[39m (\n\u001b[1;32m    292\u001b[0m         \u001b[39mf\u001b[39m\u001b[39m\"\u001b[39m\u001b[39mStarting with Pandas version \u001b[39m\u001b[39m{\u001b[39;00mversion\u001b[39m}\u001b[39;00m\u001b[39m all arguments of \u001b[39m\u001b[39m\"\u001b[39m\n\u001b[1;32m    293\u001b[0m         \u001b[39mf\u001b[39m\u001b[39m\"\u001b[39m\u001b[39m{\u001b[39;00mfunc\u001b[39m.\u001b[39m\u001b[39m__name__\u001b[39m\u001b[39m}\u001b[39;00m\u001b[39m{\u001b[39;00marguments\u001b[39m}\u001b[39;00m\u001b[39m will be keyword-only\u001b[39m\u001b[39m\"\u001b[39m\n\u001b[1;32m    294\u001b[0m     )\n\u001b[1;32m    295\u001b[0m     warnings\u001b[39m.\u001b[39mwarn(msg, \u001b[39mFutureWarning\u001b[39;00m, stacklevel\u001b[39m=\u001b[39mstacklevel)\n\u001b[0;32m--> 296\u001b[0m \u001b[39mreturn\u001b[39;00m func(\u001b[39m*\u001b[39;49margs, \u001b[39m*\u001b[39;49m\u001b[39m*\u001b[39;49mkwargs)\n",
      "File \u001b[0;32m~/opt/miniconda3/lib/python3.8/site-packages/pandas/io/json/_json.py:618\u001b[0m, in \u001b[0;36mread_json\u001b[0;34m(path_or_buf, orient, typ, dtype, convert_axes, convert_dates, keep_default_dates, numpy, precise_float, date_unit, encoding, lines, chunksize, compression, nrows)\u001b[0m\n\u001b[1;32m    615\u001b[0m \u001b[39mif\u001b[39;00m chunksize:\n\u001b[1;32m    616\u001b[0m     \u001b[39mreturn\u001b[39;00m json_reader\n\u001b[0;32m--> 618\u001b[0m result \u001b[39m=\u001b[39m json_reader\u001b[39m.\u001b[39;49mread()\n\u001b[1;32m    619\u001b[0m \u001b[39mif\u001b[39;00m should_close:\n\u001b[1;32m    620\u001b[0m     filepath_or_buffer\u001b[39m.\u001b[39mclose()\n",
      "File \u001b[0;32m~/opt/miniconda3/lib/python3.8/site-packages/pandas/io/json/_json.py:755\u001b[0m, in \u001b[0;36mJsonReader.read\u001b[0;34m(self)\u001b[0m\n\u001b[1;32m    753\u001b[0m         obj \u001b[39m=\u001b[39m \u001b[39mself\u001b[39m\u001b[39m.\u001b[39m_get_object_parser(\u001b[39mself\u001b[39m\u001b[39m.\u001b[39m_combine_lines(data))\n\u001b[1;32m    754\u001b[0m \u001b[39melse\u001b[39;00m:\n\u001b[0;32m--> 755\u001b[0m     obj \u001b[39m=\u001b[39m \u001b[39mself\u001b[39;49m\u001b[39m.\u001b[39;49m_get_object_parser(\u001b[39mself\u001b[39;49m\u001b[39m.\u001b[39;49mdata)\n\u001b[1;32m    756\u001b[0m \u001b[39mself\u001b[39m\u001b[39m.\u001b[39mclose()\n\u001b[1;32m    757\u001b[0m \u001b[39mreturn\u001b[39;00m obj\n",
      "File \u001b[0;32m~/opt/miniconda3/lib/python3.8/site-packages/pandas/io/json/_json.py:777\u001b[0m, in \u001b[0;36mJsonReader._get_object_parser\u001b[0;34m(self, json)\u001b[0m\n\u001b[1;32m    775\u001b[0m obj \u001b[39m=\u001b[39m \u001b[39mNone\u001b[39;00m\n\u001b[1;32m    776\u001b[0m \u001b[39mif\u001b[39;00m typ \u001b[39m==\u001b[39m \u001b[39m\"\u001b[39m\u001b[39mframe\u001b[39m\u001b[39m\"\u001b[39m:\n\u001b[0;32m--> 777\u001b[0m     obj \u001b[39m=\u001b[39m FrameParser(json, \u001b[39m*\u001b[39;49m\u001b[39m*\u001b[39;49mkwargs)\u001b[39m.\u001b[39;49mparse()\n\u001b[1;32m    779\u001b[0m \u001b[39mif\u001b[39;00m typ \u001b[39m==\u001b[39m \u001b[39m\"\u001b[39m\u001b[39mseries\u001b[39m\u001b[39m\"\u001b[39m \u001b[39mor\u001b[39;00m obj \u001b[39mis\u001b[39;00m \u001b[39mNone\u001b[39;00m:\n\u001b[1;32m    780\u001b[0m     \u001b[39mif\u001b[39;00m \u001b[39mnot\u001b[39;00m \u001b[39misinstance\u001b[39m(dtype, \u001b[39mbool\u001b[39m):\n",
      "File \u001b[0;32m~/opt/miniconda3/lib/python3.8/site-packages/pandas/io/json/_json.py:886\u001b[0m, in \u001b[0;36mParser.parse\u001b[0;34m(self)\u001b[0m\n\u001b[1;32m    883\u001b[0m     \u001b[39mself\u001b[39m\u001b[39m.\u001b[39m_parse_numpy()\n\u001b[1;32m    885\u001b[0m \u001b[39melse\u001b[39;00m:\n\u001b[0;32m--> 886\u001b[0m     \u001b[39mself\u001b[39;49m\u001b[39m.\u001b[39;49m_parse_no_numpy()\n\u001b[1;32m    888\u001b[0m \u001b[39mif\u001b[39;00m \u001b[39mself\u001b[39m\u001b[39m.\u001b[39mobj \u001b[39mis\u001b[39;00m \u001b[39mNone\u001b[39;00m:\n\u001b[1;32m    889\u001b[0m     \u001b[39mreturn\u001b[39;00m \u001b[39mNone\u001b[39;00m\n",
      "File \u001b[0;32m~/opt/miniconda3/lib/python3.8/site-packages/pandas/io/json/_json.py:1118\u001b[0m, in \u001b[0;36mFrameParser._parse_no_numpy\u001b[0;34m(self)\u001b[0m\n\u001b[1;32m   1115\u001b[0m orient \u001b[39m=\u001b[39m \u001b[39mself\u001b[39m\u001b[39m.\u001b[39morient\n\u001b[1;32m   1117\u001b[0m \u001b[39mif\u001b[39;00m orient \u001b[39m==\u001b[39m \u001b[39m\"\u001b[39m\u001b[39mcolumns\u001b[39m\u001b[39m\"\u001b[39m:\n\u001b[0;32m-> 1118\u001b[0m     \u001b[39mself\u001b[39m\u001b[39m.\u001b[39mobj \u001b[39m=\u001b[39m DataFrame(\n\u001b[1;32m   1119\u001b[0m         loads(json, precise_float\u001b[39m=\u001b[39;49m\u001b[39mself\u001b[39;49m\u001b[39m.\u001b[39;49mprecise_float), dtype\u001b[39m=\u001b[39;49m\u001b[39mNone\u001b[39;49;00m\n\u001b[1;32m   1120\u001b[0m     )\n\u001b[1;32m   1121\u001b[0m \u001b[39melif\u001b[39;00m orient \u001b[39m==\u001b[39m \u001b[39m\"\u001b[39m\u001b[39msplit\u001b[39m\u001b[39m\"\u001b[39m:\n\u001b[1;32m   1122\u001b[0m     decoded \u001b[39m=\u001b[39m {\n\u001b[1;32m   1123\u001b[0m         \u001b[39mstr\u001b[39m(k): v\n\u001b[1;32m   1124\u001b[0m         \u001b[39mfor\u001b[39;00m k, v \u001b[39min\u001b[39;00m loads(json, precise_float\u001b[39m=\u001b[39m\u001b[39mself\u001b[39m\u001b[39m.\u001b[39mprecise_float)\u001b[39m.\u001b[39mitems()\n\u001b[1;32m   1125\u001b[0m     }\n",
      "File \u001b[0;32m~/opt/miniconda3/lib/python3.8/site-packages/pandas/core/frame.py:468\u001b[0m, in \u001b[0;36mDataFrame.__init__\u001b[0;34m(self, data, index, columns, dtype, copy)\u001b[0m\n\u001b[1;32m    463\u001b[0m     mgr \u001b[39m=\u001b[39m \u001b[39mself\u001b[39m\u001b[39m.\u001b[39m_init_mgr(\n\u001b[1;32m    464\u001b[0m         data, axes\u001b[39m=\u001b[39m\u001b[39mdict\u001b[39m(index\u001b[39m=\u001b[39mindex, columns\u001b[39m=\u001b[39mcolumns), dtype\u001b[39m=\u001b[39mdtype, copy\u001b[39m=\u001b[39mcopy\n\u001b[1;32m    465\u001b[0m     )\n\u001b[1;32m    467\u001b[0m \u001b[39melif\u001b[39;00m \u001b[39misinstance\u001b[39m(data, \u001b[39mdict\u001b[39m):\n\u001b[0;32m--> 468\u001b[0m     mgr \u001b[39m=\u001b[39m init_dict(data, index, columns, dtype\u001b[39m=\u001b[39;49mdtype)\n\u001b[1;32m    469\u001b[0m \u001b[39melif\u001b[39;00m \u001b[39misinstance\u001b[39m(data, ma\u001b[39m.\u001b[39mMaskedArray):\n\u001b[1;32m    470\u001b[0m     \u001b[39mimport\u001b[39;00m \u001b[39mnumpy\u001b[39;00m\u001b[39m.\u001b[39;00m\u001b[39mma\u001b[39;00m\u001b[39m.\u001b[39;00m\u001b[39mmrecords\u001b[39;00m \u001b[39mas\u001b[39;00m \u001b[39mmrecords\u001b[39;00m\n",
      "File \u001b[0;32m~/opt/miniconda3/lib/python3.8/site-packages/pandas/core/internals/construction.py:283\u001b[0m, in \u001b[0;36minit_dict\u001b[0;34m(data, index, columns, dtype)\u001b[0m\n\u001b[1;32m    277\u001b[0m     arrays \u001b[39m=\u001b[39m [\n\u001b[1;32m    278\u001b[0m         arr \u001b[39mif\u001b[39;00m \u001b[39mnot\u001b[39;00m \u001b[39misinstance\u001b[39m(arr, ABCIndexClass) \u001b[39melse\u001b[39;00m arr\u001b[39m.\u001b[39m_data \u001b[39mfor\u001b[39;00m arr \u001b[39min\u001b[39;00m arrays\n\u001b[1;32m    279\u001b[0m     ]\n\u001b[1;32m    280\u001b[0m     arrays \u001b[39m=\u001b[39m [\n\u001b[1;32m    281\u001b[0m         arr \u001b[39mif\u001b[39;00m \u001b[39mnot\u001b[39;00m is_datetime64tz_dtype(arr) \u001b[39melse\u001b[39;00m arr\u001b[39m.\u001b[39mcopy() \u001b[39mfor\u001b[39;00m arr \u001b[39min\u001b[39;00m arrays\n\u001b[1;32m    282\u001b[0m     ]\n\u001b[0;32m--> 283\u001b[0m \u001b[39mreturn\u001b[39;00m arrays_to_mgr(arrays, data_names, index, columns, dtype\u001b[39m=\u001b[39;49mdtype)\n",
      "File \u001b[0;32m~/opt/miniconda3/lib/python3.8/site-packages/pandas/core/internals/construction.py:78\u001b[0m, in \u001b[0;36marrays_to_mgr\u001b[0;34m(arrays, arr_names, index, columns, dtype, verify_integrity)\u001b[0m\n\u001b[1;32m     75\u001b[0m \u001b[39mif\u001b[39;00m verify_integrity:\n\u001b[1;32m     76\u001b[0m     \u001b[39m# figure out the index, if necessary\u001b[39;00m\n\u001b[1;32m     77\u001b[0m     \u001b[39mif\u001b[39;00m index \u001b[39mis\u001b[39;00m \u001b[39mNone\u001b[39;00m:\n\u001b[0;32m---> 78\u001b[0m         index \u001b[39m=\u001b[39m extract_index(arrays)\n\u001b[1;32m     79\u001b[0m     \u001b[39melse\u001b[39;00m:\n\u001b[1;32m     80\u001b[0m         index \u001b[39m=\u001b[39m ensure_index(index)\n",
      "File \u001b[0;32m~/opt/miniconda3/lib/python3.8/site-packages/pandas/core/internals/construction.py:397\u001b[0m, in \u001b[0;36mextract_index\u001b[0;34m(data)\u001b[0m\n\u001b[1;32m    395\u001b[0m lengths \u001b[39m=\u001b[39m \u001b[39mlist\u001b[39m(\u001b[39mset\u001b[39m(raw_lengths))\n\u001b[1;32m    396\u001b[0m \u001b[39mif\u001b[39;00m \u001b[39mlen\u001b[39m(lengths) \u001b[39m>\u001b[39m \u001b[39m1\u001b[39m:\n\u001b[0;32m--> 397\u001b[0m     \u001b[39mraise\u001b[39;00m \u001b[39mValueError\u001b[39;00m(\u001b[39m\"\u001b[39m\u001b[39marrays must all be same length\u001b[39m\u001b[39m\"\u001b[39m)\n\u001b[1;32m    399\u001b[0m \u001b[39mif\u001b[39;00m have_dicts:\n\u001b[1;32m    400\u001b[0m     \u001b[39mraise\u001b[39;00m \u001b[39mValueError\u001b[39;00m(\n\u001b[1;32m    401\u001b[0m         \u001b[39m\"\u001b[39m\u001b[39mMixing dicts with non-Series may lead to ambiguous ordering.\u001b[39m\u001b[39m\"\u001b[39m\n\u001b[1;32m    402\u001b[0m     )\n",
      "\u001b[0;31mValueError\u001b[0m: arrays must all be same length"
     ]
    }
   ],
   "source": [
    "import pandas as pd\n",
    "df = pd.read_json('/Users/klaus/Documents/Alstin/founder.json')\n"
   ]
  },
  {
   "cell_type": "code",
   "execution_count": 41,
   "metadata": {},
   "outputs": [],
   "source": []
  },
  {
   "cell_type": "code",
   "execution_count": 101,
   "metadata": {},
   "outputs": [],
   "source": [
    "def dict_get(x,key,here=None):\n",
    "    x = x.copy()\n",
    "    if here is None: here = []\n",
    "    if x.get(key):  \n",
    "        here.append(x.get(key))\n",
    "        x.pop(key)\n",
    "    else:\n",
    "        for i,j in x.items():\n",
    "          if  isinstance(x[i],list): dict_get(x[i][0],key,here)\n",
    "          if  isinstance(x[i],dict): dict_get(x[i],key,here)\n",
    "    return here"
   ]
  },
  {
   "cell_type": "code",
   "execution_count": 130,
   "metadata": {},
   "outputs": [
    {
     "data": {
      "text/html": [
       "<div>\n",
       "<style scoped>\n",
       "    .dataframe tbody tr th:only-of-type {\n",
       "        vertical-align: middle;\n",
       "    }\n",
       "\n",
       "    .dataframe tbody tr th {\n",
       "        vertical-align: top;\n",
       "    }\n",
       "\n",
       "    .dataframe thead th {\n",
       "        text-align: right;\n",
       "    }\n",
       "</style>\n",
       "<table border=\"1\" class=\"dataframe\">\n",
       "  <thead>\n",
       "    <tr style=\"text-align: right;\">\n",
       "      <th></th>\n",
       "      <th>0</th>\n",
       "    </tr>\n",
       "  </thead>\n",
       "  <tbody>\n",
       "    <tr>\n",
       "      <th>id</th>\n",
       "      <td>60188</td>\n",
       "    </tr>\n",
       "    <tr>\n",
       "      <th>name</th>\n",
       "      <td>Andrew Hunt</td>\n",
       "    </tr>\n",
       "    <tr>\n",
       "      <th>path</th>\n",
       "      <td>andrew_hunt</td>\n",
       "    </tr>\n",
       "    <tr>\n",
       "      <th>type</th>\n",
       "      <td>investor</td>\n",
       "    </tr>\n",
       "    <tr>\n",
       "      <th>url</th>\n",
       "      <td>https://app.dealroom.co/investors/andrew_hunt</td>\n",
       "    </tr>\n",
       "    <tr>\n",
       "      <th>images</th>\n",
       "      <td>{'32x32': 'https://s3-eu-west-1.amazonaws.com/...</td>\n",
       "    </tr>\n",
       "    <tr>\n",
       "      <th>backgrounds</th>\n",
       "      <td>[{'id': 3, 'name': 'business'}]</td>\n",
       "    </tr>\n",
       "    <tr>\n",
       "      <th>gender</th>\n",
       "      <td>male</td>\n",
       "    </tr>\n",
       "    <tr>\n",
       "      <th>is_serial_founder</th>\n",
       "      <td>True</td>\n",
       "    </tr>\n",
       "    <tr>\n",
       "      <th>universities</th>\n",
       "      <td>{'items': [{'id': 132929, 'degree': {'id': 1, ...</td>\n",
       "    </tr>\n",
       "    <tr>\n",
       "      <th>deleted</th>\n",
       "      <td>False</td>\n",
       "    </tr>\n",
       "    <tr>\n",
       "      <th>tagline</th>\n",
       "      <td>None</td>\n",
       "    </tr>\n",
       "    <tr>\n",
       "      <th>website_url</th>\n",
       "      <td>None</td>\n",
       "    </tr>\n",
       "    <tr>\n",
       "      <th>twitter_url</th>\n",
       "      <td>None</td>\n",
       "    </tr>\n",
       "    <tr>\n",
       "      <th>facebook_url</th>\n",
       "      <td>None</td>\n",
       "    </tr>\n",
       "    <tr>\n",
       "      <th>linkedin_url</th>\n",
       "      <td>https://www.linkedin.com/in/andrewhunt2/</td>\n",
       "    </tr>\n",
       "    <tr>\n",
       "      <th>google_url</th>\n",
       "      <td>None</td>\n",
       "    </tr>\n",
       "    <tr>\n",
       "      <th>crunchbase_url</th>\n",
       "      <td>https://www.crunchbase.com/person/andy-hunt</td>\n",
       "    </tr>\n",
       "    <tr>\n",
       "      <th>angellist_url</th>\n",
       "      <td>None</td>\n",
       "    </tr>\n",
       "    <tr>\n",
       "      <th>playmarket_app_id</th>\n",
       "      <td>None</td>\n",
       "    </tr>\n",
       "    <tr>\n",
       "      <th>appstore_app_id</th>\n",
       "      <td>None</td>\n",
       "    </tr>\n",
       "    <tr>\n",
       "      <th>hq_locations</th>\n",
       "      <td>[{'id': 559602, 'address': 'New York City, New...</td>\n",
       "    </tr>\n",
       "    <tr>\n",
       "      <th>founder_score</th>\n",
       "      <td>23</td>\n",
       "    </tr>\n",
       "    <tr>\n",
       "      <th>is_founder</th>\n",
       "      <td>True</td>\n",
       "    </tr>\n",
       "    <tr>\n",
       "      <th>is_strong_founder</th>\n",
       "      <td>False</td>\n",
       "    </tr>\n",
       "    <tr>\n",
       "      <th>is_super_founder</th>\n",
       "      <td>False</td>\n",
       "    </tr>\n",
       "    <tr>\n",
       "      <th>is_promising_founder</th>\n",
       "      <td>False</td>\n",
       "    </tr>\n",
       "    <tr>\n",
       "      <th>founded_companies_total_funding</th>\n",
       "      <td>970800</td>\n",
       "    </tr>\n",
       "    <tr>\n",
       "      <th>last_updated</th>\n",
       "      <td>2022-06-04T19:41:06+0100</td>\n",
       "    </tr>\n",
       "    <tr>\n",
       "      <th>last_updated_utc</th>\n",
       "      <td>2022-06-04 18:41:06</td>\n",
       "    </tr>\n",
       "    <tr>\n",
       "      <th>created_utc</th>\n",
       "      <td>2013-10-01 11:00:00</td>\n",
       "    </tr>\n",
       "    <tr>\n",
       "      <th>companies</th>\n",
       "      <td>{'items': [{'id': 2329, 'name': 'Highland Capi...</td>\n",
       "    </tr>\n",
       "  </tbody>\n",
       "</table>\n",
       "</div>"
      ],
      "text/plain": [
       "                                                                                 0\n",
       "id                                                                           60188\n",
       "name                                                                   Andrew Hunt\n",
       "path                                                                   andrew_hunt\n",
       "type                                                                      investor\n",
       "url                                  https://app.dealroom.co/investors/andrew_hunt\n",
       "images                           {'32x32': 'https://s3-eu-west-1.amazonaws.com/...\n",
       "backgrounds                                        [{'id': 3, 'name': 'business'}]\n",
       "gender                                                                        male\n",
       "is_serial_founder                                                             True\n",
       "universities                     {'items': [{'id': 132929, 'degree': {'id': 1, ...\n",
       "deleted                                                                      False\n",
       "tagline                                                                       None\n",
       "website_url                                                                   None\n",
       "twitter_url                                                                   None\n",
       "facebook_url                                                                  None\n",
       "linkedin_url                              https://www.linkedin.com/in/andrewhunt2/\n",
       "google_url                                                                    None\n",
       "crunchbase_url                         https://www.crunchbase.com/person/andy-hunt\n",
       "angellist_url                                                                 None\n",
       "playmarket_app_id                                                             None\n",
       "appstore_app_id                                                               None\n",
       "hq_locations                     [{'id': 559602, 'address': 'New York City, New...\n",
       "founder_score                                                                   23\n",
       "is_founder                                                                    True\n",
       "is_strong_founder                                                            False\n",
       "is_super_founder                                                             False\n",
       "is_promising_founder                                                         False\n",
       "founded_companies_total_funding                                             970800\n",
       "last_updated                                              2022-06-04T19:41:06+0100\n",
       "last_updated_utc                                               2022-06-04 18:41:06\n",
       "created_utc                                                    2013-10-01 11:00:00\n",
       "companies                        {'items': [{'id': 2329, 'name': 'Highland Capi..."
      ]
     },
     "execution_count": 130,
     "metadata": {},
     "output_type": "execute_result"
    }
   ],
   "source": [
    "df"
   ]
  },
  {
   "cell_type": "code",
   "execution_count": 128,
   "metadata": {},
   "outputs": [
    {
     "data": {
      "text/plain": [
       "list"
      ]
     },
     "execution_count": 128,
     "metadata": {},
     "output_type": "execute_result"
    }
   ],
   "source": [
    "a=dict_get(data,\"universities\")[0][\"items\"]\n",
    "type(a)"
   ]
  },
  {
   "cell_type": "code",
   "execution_count": 160,
   "metadata": {},
   "outputs": [],
   "source": [
    "l=pd.DataFrame.from_dict(b[0], orient=\"index\")"
   ]
  },
  {
   "cell_type": "code",
   "execution_count": 170,
   "metadata": {},
   "outputs": [],
   "source": [
    "b=pd.DataFrame(a)[\"university\"]\n",
    "df1=pd.DataFrame.from_dict(b[1], orient=\"index\")\n",
    "df1[1]=l"
   ]
  },
  {
   "cell_type": "code",
   "execution_count": 145,
   "metadata": {},
   "outputs": [
    {
     "ename": "KeyError",
     "evalue": "0",
     "output_type": "error",
     "traceback": [
      "\u001b[0;31m---------------------------------------------------------------------------\u001b[0m",
      "\u001b[0;31mKeyError\u001b[0m                                  Traceback (most recent call last)",
      "\u001b[1;32mUntitled-1.ipynb Cell 7'\u001b[0m in \u001b[0;36m<cell line: 1>\u001b[0;34m()\u001b[0m\n\u001b[0;32m----> <a href='vscode-notebook-cell:Untitled-1.ipynb?jupyter-notebook#ch0000018untitled?line=0'>1</a>\u001b[0m pd\u001b[39m.\u001b[39mDataFrame(b[\u001b[39m1\u001b[39;49m][\u001b[39m0\u001b[39;49m])\n",
      "\u001b[0;31mKeyError\u001b[0m: 0"
     ]
    }
   ],
   "source": [
    "pd.DataFrame(b[1][0])"
   ]
  },
  {
   "cell_type": "code",
   "execution_count": 171,
   "metadata": {},
   "outputs": [
    {
     "data": {
      "text/html": [
       "<div>\n",
       "<style scoped>\n",
       "    .dataframe tbody tr th:only-of-type {\n",
       "        vertical-align: middle;\n",
       "    }\n",
       "\n",
       "    .dataframe tbody tr th {\n",
       "        vertical-align: top;\n",
       "    }\n",
       "\n",
       "    .dataframe thead th {\n",
       "        text-align: right;\n",
       "    }\n",
       "</style>\n",
       "<table border=\"1\" class=\"dataframe\">\n",
       "  <thead>\n",
       "    <tr style=\"text-align: right;\">\n",
       "      <th></th>\n",
       "      <th>0</th>\n",
       "      <th>1</th>\n",
       "    </tr>\n",
       "  </thead>\n",
       "  <tbody>\n",
       "    <tr>\n",
       "      <th>id</th>\n",
       "      <td>1755738</td>\n",
       "      <td>935953</td>\n",
       "    </tr>\n",
       "    <tr>\n",
       "      <th>name</th>\n",
       "      <td>Deerfield Academy</td>\n",
       "      <td>The Wharton School</td>\n",
       "    </tr>\n",
       "    <tr>\n",
       "      <th>path</th>\n",
       "      <td>deerfield_academy</td>\n",
       "      <td>university_of_pennsylvania_the_wharton_school</td>\n",
       "    </tr>\n",
       "    <tr>\n",
       "      <th>type</th>\n",
       "      <td>university</td>\n",
       "      <td>university</td>\n",
       "    </tr>\n",
       "    <tr>\n",
       "      <th>url</th>\n",
       "      <td>https://app.dealroom.co/universities/deerfield...</td>\n",
       "      <td>https://app.dealroom.co/universities/universit...</td>\n",
       "    </tr>\n",
       "    <tr>\n",
       "      <th>images</th>\n",
       "      <td>{'32x32': 'https://s3.eu-west-2.amazonaws.com/...</td>\n",
       "      <td>{'32x32': 'https://s3-eu-west-1.amazonaws.com/...</td>\n",
       "    </tr>\n",
       "  </tbody>\n",
       "</table>\n",
       "</div>"
      ],
      "text/plain": [
       "                                                        0  \\\n",
       "id                                                1755738   \n",
       "name                                    Deerfield Academy   \n",
       "path                                    deerfield_academy   \n",
       "type                                           university   \n",
       "url     https://app.dealroom.co/universities/deerfield...   \n",
       "images  {'32x32': 'https://s3.eu-west-2.amazonaws.com/...   \n",
       "\n",
       "                                                        1  \n",
       "id                                                 935953  \n",
       "name                                   The Wharton School  \n",
       "path        university_of_pennsylvania_the_wharton_school  \n",
       "type                                           university  \n",
       "url     https://app.dealroom.co/universities/universit...  \n",
       "images  {'32x32': 'https://s3-eu-west-1.amazonaws.com/...  "
      ]
     },
     "execution_count": 171,
     "metadata": {},
     "output_type": "execute_result"
    }
   ],
   "source": [
    "df1"
   ]
  },
  {
   "cell_type": "code",
   "execution_count": 96,
   "metadata": {},
   "outputs": [],
   "source": [
    "uni=df.loc[\"universities\",:]\n",
    "companies=df.loc[\"companies\",:]"
   ]
  },
  {
   "cell_type": "code",
   "execution_count": 100,
   "metadata": {},
   "outputs": [
    {
     "data": {
      "text/plain": [
       "pandas.core.series.Series"
      ]
     },
     "execution_count": 100,
     "metadata": {},
     "output_type": "execute_result"
    }
   ],
   "source": [
    "type(companies)"
   ]
  },
  {
   "cell_type": "code",
   "execution_count": 66,
   "metadata": {},
   "outputs": [
    {
     "data": {
      "text/plain": [
       "{'items': [{'id': 132929,\n",
       "   'degree': {'id': 1, 'name': 'MBA', 'years': 5},\n",
       "   'majors': [{'id': 17, 'name': 'Finance'}],\n",
       "   'year_start': 2008,\n",
       "   'year_end': 2010,\n",
       "   'university': {'id': 935953,\n",
       "    'name': 'The Wharton School',\n",
       "    'path': 'university_of_pennsylvania_the_wharton_school',\n",
       "    'type': 'university',\n",
       "    'url': 'https://app.dealroom.co/universities/university_of_pennsylvania_the_wharton_school',\n",
       "    'images': {'32x32': 'https://s3-eu-west-1.amazonaws.com/dealroom-images/bd/MzI6MzI6dW5pdmVyc2l0eUBzMy1ldS13ZXN0LTEuYW1hem9uYXdzLmNvbS9kZWFscm9vbS1pbWFnZXMvMjAxOC8wMy8yNy8zMmVhNzFlOTY2ZDYzNmZiMWUwZDdlYTc2ZWQyYWRiYw==.jpg',\n",
       "     '74x74': 'https://s3-eu-west-1.amazonaws.com/dealroom-images/cc/NzQ6NzQ6dW5pdmVyc2l0eUBzMy1ldS13ZXN0LTEuYW1hem9uYXdzLmNvbS9kZWFscm9vbS1pbWFnZXMvMjAxOC8wMy8yNy8zMmVhNzFlOTY2ZDYzNmZiMWUwZDdlYTc2ZWQyYWRiYw==.jpg',\n",
       "     '100x100': 'https://s3-eu-west-1.amazonaws.com/dealroom-images/89/MTAwOjEwMDp1bml2ZXJzaXR5QHMzLWV1LXdlc3QtMS5hbWF6b25hd3MuY29tL2RlYWxyb29tLWltYWdlcy8yMDE4LzAzLzI3LzMyZWE3MWU5NjZkNjM2ZmIxZTBkN2VhNzZlZDJhZGJj.jpg'}}},\n",
       "  {'id': 132933,\n",
       "   'degree': None,\n",
       "   'majors': [],\n",
       "   'year_start': 1997,\n",
       "   'year_end': 2000,\n",
       "   'university': {'id': 1755738,\n",
       "    'name': 'Deerfield Academy',\n",
       "    'path': 'deerfield_academy',\n",
       "    'type': 'university',\n",
       "    'url': 'https://app.dealroom.co/universities/deerfield_academy',\n",
       "    'images': {'32x32': 'https://s3.eu-west-2.amazonaws.com/dealroom-static/null/university-32.png',\n",
       "     '74x74': 'https://s3.eu-west-2.amazonaws.com/dealroom-static/null/university-74.png',\n",
       "     '100x100': 'https://s3.eu-west-2.amazonaws.com/dealroom-static/null/university-100.png'}}}],\n",
       " 'total': 2}"
      ]
     },
     "execution_count": 66,
     "metadata": {},
     "output_type": "execute_result"
    }
   ],
   "source": [
    "uni[0]"
   ]
  },
  {
   "cell_type": "code",
   "execution_count": 65,
   "metadata": {},
   "outputs": [
    {
     "data": {
      "text/html": [
       "<div>\n",
       "<style scoped>\n",
       "    .dataframe tbody tr th:only-of-type {\n",
       "        vertical-align: middle;\n",
       "    }\n",
       "\n",
       "    .dataframe tbody tr th {\n",
       "        vertical-align: top;\n",
       "    }\n",
       "\n",
       "    .dataframe thead th {\n",
       "        text-align: right;\n",
       "    }\n",
       "</style>\n",
       "<table border=\"1\" class=\"dataframe\">\n",
       "  <thead>\n",
       "    <tr style=\"text-align: right;\">\n",
       "      <th></th>\n",
       "      <th>items</th>\n",
       "      <th>total</th>\n",
       "    </tr>\n",
       "  </thead>\n",
       "  <tbody>\n",
       "    <tr>\n",
       "      <th>0</th>\n",
       "      <td>{'id': 132929, 'degree': {'id': 1, 'name': 'MB...</td>\n",
       "      <td>2</td>\n",
       "    </tr>\n",
       "    <tr>\n",
       "      <th>1</th>\n",
       "      <td>{'id': 132933, 'degree': None, 'majors': [], '...</td>\n",
       "      <td>2</td>\n",
       "    </tr>\n",
       "  </tbody>\n",
       "</table>\n",
       "</div>"
      ],
      "text/plain": [
       "                                               items  total\n",
       "0  {'id': 132929, 'degree': {'id': 1, 'name': 'MB...      2\n",
       "1  {'id': 132933, 'degree': None, 'majors': [], '...      2"
      ]
     },
     "execution_count": 65,
     "metadata": {},
     "output_type": "execute_result"
    }
   ],
   "source": [
    "universities"
   ]
  },
  {
   "cell_type": "code",
   "execution_count": 72,
   "metadata": {},
   "outputs": [
    {
     "name": "stdout",
     "output_type": "stream",
     "text": [
      "items\n",
      "[{'id': 132929, 'degree': {'id': 1, 'name': 'MBA', 'years': 5}, 'majors': [{'id': 17, 'name': 'Finance'}], 'year_start': 2008, 'year_end': 2010, 'university': {'id': 935953, 'name': 'The Wharton School', 'path': 'university_of_pennsylvania_the_wharton_school', 'type': 'university', 'url': 'https://app.dealroom.co/universities/university_of_pennsylvania_the_wharton_school', 'images': {'32x32': 'https://s3-eu-west-1.amazonaws.com/dealroom-images/bd/MzI6MzI6dW5pdmVyc2l0eUBzMy1ldS13ZXN0LTEuYW1hem9uYXdzLmNvbS9kZWFscm9vbS1pbWFnZXMvMjAxOC8wMy8yNy8zMmVhNzFlOTY2ZDYzNmZiMWUwZDdlYTc2ZWQyYWRiYw==.jpg', '74x74': 'https://s3-eu-west-1.amazonaws.com/dealroom-images/cc/NzQ6NzQ6dW5pdmVyc2l0eUBzMy1ldS13ZXN0LTEuYW1hem9uYXdzLmNvbS9kZWFscm9vbS1pbWFnZXMvMjAxOC8wMy8yNy8zMmVhNzFlOTY2ZDYzNmZiMWUwZDdlYTc2ZWQyYWRiYw==.jpg', '100x100': 'https://s3-eu-west-1.amazonaws.com/dealroom-images/89/MTAwOjEwMDp1bml2ZXJzaXR5QHMzLWV1LXdlc3QtMS5hbWF6b25hd3MuY29tL2RlYWxyb29tLWltYWdlcy8yMDE4LzAzLzI3LzMyZWE3MWU5NjZkNjM2ZmIxZTBkN2VhNzZlZDJhZGJj.jpg'}}}, {'id': 132933, 'degree': None, 'majors': [], 'year_start': 1997, 'year_end': 2000, 'university': {'id': 1755738, 'name': 'Deerfield Academy', 'path': 'deerfield_academy', 'type': 'university', 'url': 'https://app.dealroom.co/universities/deerfield_academy', 'images': {'32x32': 'https://s3.eu-west-2.amazonaws.com/dealroom-static/null/university-32.png', '74x74': 'https://s3.eu-west-2.amazonaws.com/dealroom-static/null/university-74.png', '100x100': 'https://s3.eu-west-2.amazonaws.com/dealroom-static/null/university-100.png'}}}]\n",
      "total\n",
      "2\n"
     ]
    }
   ],
   "source": [
    "for keys,values in uni[0].items():\n",
    "    print(keys)\n",
    "    print(values)"
   ]
  },
  {
   "cell_type": "code",
   "execution_count": 73,
   "metadata": {},
   "outputs": [],
   "source": [
    "def flatten_dict(nested_dict):\n",
    "    res = {}\n",
    "    if isinstance(nested_dict, dict):\n",
    "        for k in nested_dict:\n",
    "            flattened_dict = flatten_dict(nested_dict[k])\n",
    "            for key, val in flattened_dict.items():\n",
    "                key = list(key)\n",
    "                key.insert(0, k)\n",
    "                res[tuple(key)] = val\n",
    "    else:\n",
    "        res[()] = nested_dict\n",
    "    return res\n",
    "\n",
    "\n",
    "def nested_dict_to_df(values_dict):\n",
    "    flat_dict = flatten_dict(values_dict)\n",
    "    df = pd.DataFrame.from_dict(flat_dict, orient=\"index\")\n",
    "    df.index = pd.MultiIndex.from_tuples(df.index)\n",
    "    df = df.unstack(level=-1)\n",
    "    df.columns = df.columns.map(\"{0[1]}\".format)\n",
    "    return df"
   ]
  },
  {
   "cell_type": "code",
   "execution_count": 126,
   "metadata": {},
   "outputs": [
    {
     "ename": "ValueError",
     "evalue": "Must pass non-zero number of levels/codes",
     "output_type": "error",
     "traceback": [
      "\u001b[0;31m---------------------------------------------------------------------------\u001b[0m",
      "\u001b[0;31mValueError\u001b[0m                                Traceback (most recent call last)",
      "\u001b[1;32mUntitled-1.ipynb Cell 13'\u001b[0m in \u001b[0;36m<cell line: 1>\u001b[0;34m()\u001b[0m\n\u001b[0;32m----> <a href='vscode-notebook-cell:Untitled-1.ipynb?jupyter-notebook#ch0000010untitled?line=0'>1</a>\u001b[0m nested_dict_to_df(a)\n",
      "\u001b[1;32mUntitled-1.ipynb Cell 12'\u001b[0m in \u001b[0;36mnested_dict_to_df\u001b[0;34m(values_dict)\u001b[0m\n\u001b[1;32m     <a href='vscode-notebook-cell:Untitled-1.ipynb?jupyter-notebook#ch0000009untitled?line=15'>16</a>\u001b[0m flat_dict \u001b[39m=\u001b[39m flatten_dict(values_dict)\n\u001b[1;32m     <a href='vscode-notebook-cell:Untitled-1.ipynb?jupyter-notebook#ch0000009untitled?line=16'>17</a>\u001b[0m df \u001b[39m=\u001b[39m pd\u001b[39m.\u001b[39mDataFrame\u001b[39m.\u001b[39mfrom_dict(flat_dict, orient\u001b[39m=\u001b[39m\u001b[39m\"\u001b[39m\u001b[39mindex\u001b[39m\u001b[39m\"\u001b[39m)\n\u001b[0;32m---> <a href='vscode-notebook-cell:Untitled-1.ipynb?jupyter-notebook#ch0000009untitled?line=17'>18</a>\u001b[0m df\u001b[39m.\u001b[39mindex \u001b[39m=\u001b[39m pd\u001b[39m.\u001b[39;49mMultiIndex\u001b[39m.\u001b[39;49mfrom_tuples(df\u001b[39m.\u001b[39;49mindex)\n\u001b[1;32m     <a href='vscode-notebook-cell:Untitled-1.ipynb?jupyter-notebook#ch0000009untitled?line=18'>19</a>\u001b[0m df \u001b[39m=\u001b[39m df\u001b[39m.\u001b[39munstack(level\u001b[39m=\u001b[39m\u001b[39m-\u001b[39m\u001b[39m1\u001b[39m)\n\u001b[1;32m     <a href='vscode-notebook-cell:Untitled-1.ipynb?jupyter-notebook#ch0000009untitled?line=19'>20</a>\u001b[0m df\u001b[39m.\u001b[39mcolumns \u001b[39m=\u001b[39m df\u001b[39m.\u001b[39mcolumns\u001b[39m.\u001b[39mmap(\u001b[39m\"\u001b[39m\u001b[39m{0[1]}\u001b[39;00m\u001b[39m\"\u001b[39m\u001b[39m.\u001b[39mformat)\n",
      "File \u001b[0;32m~/opt/miniconda3/lib/python3.8/site-packages/pandas/core/indexes/multi.py:507\u001b[0m, in \u001b[0;36mMultiIndex.from_tuples\u001b[0;34m(cls, tuples, sortorder, names)\u001b[0m\n\u001b[1;32m    504\u001b[0m \u001b[39melse\u001b[39;00m:\n\u001b[1;32m    505\u001b[0m     arrays \u001b[39m=\u001b[39m \u001b[39mzip\u001b[39m(\u001b[39m*\u001b[39mtuples)\n\u001b[0;32m--> 507\u001b[0m \u001b[39mreturn\u001b[39;00m MultiIndex\u001b[39m.\u001b[39;49mfrom_arrays(arrays, sortorder\u001b[39m=\u001b[39;49msortorder, names\u001b[39m=\u001b[39;49mnames)\n",
      "File \u001b[0;32m~/opt/miniconda3/lib/python3.8/site-packages/pandas/core/indexes/multi.py:443\u001b[0m, in \u001b[0;36mMultiIndex.from_arrays\u001b[0;34m(cls, arrays, sortorder, names)\u001b[0m\n\u001b[1;32m    440\u001b[0m \u001b[39mif\u001b[39;00m names \u001b[39mis\u001b[39;00m lib\u001b[39m.\u001b[39mno_default:\n\u001b[1;32m    441\u001b[0m     names \u001b[39m=\u001b[39m [\u001b[39mgetattr\u001b[39m(arr, \u001b[39m\"\u001b[39m\u001b[39mname\u001b[39m\u001b[39m\"\u001b[39m, \u001b[39mNone\u001b[39;00m) \u001b[39mfor\u001b[39;00m arr \u001b[39min\u001b[39;00m arrays]\n\u001b[0;32m--> 443\u001b[0m \u001b[39mreturn\u001b[39;00m MultiIndex(\n\u001b[1;32m    444\u001b[0m     levels\u001b[39m=\u001b[39;49mlevels,\n\u001b[1;32m    445\u001b[0m     codes\u001b[39m=\u001b[39;49mcodes,\n\u001b[1;32m    446\u001b[0m     sortorder\u001b[39m=\u001b[39;49msortorder,\n\u001b[1;32m    447\u001b[0m     names\u001b[39m=\u001b[39;49mnames,\n\u001b[1;32m    448\u001b[0m     verify_integrity\u001b[39m=\u001b[39;49m\u001b[39mFalse\u001b[39;49;00m,\n\u001b[1;32m    449\u001b[0m )\n",
      "File \u001b[0;32m~/opt/miniconda3/lib/python3.8/site-packages/pandas/core/indexes/multi.py:272\u001b[0m, in \u001b[0;36mMultiIndex.__new__\u001b[0;34m(cls, levels, codes, sortorder, names, dtype, copy, name, verify_integrity, _set_identity)\u001b[0m\n\u001b[1;32m    270\u001b[0m     \u001b[39mraise\u001b[39;00m \u001b[39mValueError\u001b[39;00m(\u001b[39m\"\u001b[39m\u001b[39mLength of levels and codes must be the same.\u001b[39m\u001b[39m\"\u001b[39m)\n\u001b[1;32m    271\u001b[0m \u001b[39mif\u001b[39;00m \u001b[39mlen\u001b[39m(levels) \u001b[39m==\u001b[39m \u001b[39m0\u001b[39m:\n\u001b[0;32m--> 272\u001b[0m     \u001b[39mraise\u001b[39;00m \u001b[39mValueError\u001b[39;00m(\u001b[39m\"\u001b[39m\u001b[39mMust pass non-zero number of levels/codes\u001b[39m\u001b[39m\"\u001b[39m)\n\u001b[1;32m    274\u001b[0m result \u001b[39m=\u001b[39m \u001b[39mobject\u001b[39m\u001b[39m.\u001b[39m\u001b[39m__new__\u001b[39m(MultiIndex)\n\u001b[1;32m    275\u001b[0m result\u001b[39m.\u001b[39m_cache \u001b[39m=\u001b[39m {}\n",
      "\u001b[0;31mValueError\u001b[0m: Must pass non-zero number of levels/codes"
     ]
    }
   ],
   "source": [
    "nested_dict_to_df()"
   ]
  },
  {
   "cell_type": "code",
   "execution_count": 79,
   "metadata": {},
   "outputs": [
    {
     "data": {
      "text/plain": [
       "{('items',): [{'id': 132929,\n",
       "   'degree': {'id': 1, 'name': 'MBA', 'years': 5},\n",
       "   'majors': [{'id': 17, 'name': 'Finance'}],\n",
       "   'year_start': 2008,\n",
       "   'year_end': 2010,\n",
       "   'university': {'id': 935953,\n",
       "    'name': 'The Wharton School',\n",
       "    'path': 'university_of_pennsylvania_the_wharton_school',\n",
       "    'type': 'university',\n",
       "    'url': 'https://app.dealroom.co/universities/university_of_pennsylvania_the_wharton_school',\n",
       "    'images': {'32x32': 'https://s3-eu-west-1.amazonaws.com/dealroom-images/bd/MzI6MzI6dW5pdmVyc2l0eUBzMy1ldS13ZXN0LTEuYW1hem9uYXdzLmNvbS9kZWFscm9vbS1pbWFnZXMvMjAxOC8wMy8yNy8zMmVhNzFlOTY2ZDYzNmZiMWUwZDdlYTc2ZWQyYWRiYw==.jpg',\n",
       "     '74x74': 'https://s3-eu-west-1.amazonaws.com/dealroom-images/cc/NzQ6NzQ6dW5pdmVyc2l0eUBzMy1ldS13ZXN0LTEuYW1hem9uYXdzLmNvbS9kZWFscm9vbS1pbWFnZXMvMjAxOC8wMy8yNy8zMmVhNzFlOTY2ZDYzNmZiMWUwZDdlYTc2ZWQyYWRiYw==.jpg',\n",
       "     '100x100': 'https://s3-eu-west-1.amazonaws.com/dealroom-images/89/MTAwOjEwMDp1bml2ZXJzaXR5QHMzLWV1LXdlc3QtMS5hbWF6b25hd3MuY29tL2RlYWxyb29tLWltYWdlcy8yMDE4LzAzLzI3LzMyZWE3MWU5NjZkNjM2ZmIxZTBkN2VhNzZlZDJhZGJj.jpg'}}},\n",
       "  {'id': 132933,\n",
       "   'degree': None,\n",
       "   'majors': [],\n",
       "   'year_start': 1997,\n",
       "   'year_end': 2000,\n",
       "   'university': {'id': 1755738,\n",
       "    'name': 'Deerfield Academy',\n",
       "    'path': 'deerfield_academy',\n",
       "    'type': 'university',\n",
       "    'url': 'https://app.dealroom.co/universities/deerfield_academy',\n",
       "    'images': {'32x32': 'https://s3.eu-west-2.amazonaws.com/dealroom-static/null/university-32.png',\n",
       "     '74x74': 'https://s3.eu-west-2.amazonaws.com/dealroom-static/null/university-74.png',\n",
       "     '100x100': 'https://s3.eu-west-2.amazonaws.com/dealroom-static/null/university-100.png'}}}],\n",
       " ('total',): 2}"
      ]
     },
     "execution_count": 79,
     "metadata": {},
     "output_type": "execute_result"
    }
   ],
   "source": [
    "univ"
   ]
  },
  {
   "cell_type": "code",
   "execution_count": 95,
   "metadata": {},
   "outputs": [
    {
     "data": {
      "text/plain": [
       "items    {'id': 132933, 'degree': None, 'majors': [], '...\n",
       "total                                                    2\n",
       "Name: 1, dtype: object"
      ]
     },
     "execution_count": 95,
     "metadata": {},
     "output_type": "execute_result"
    }
   ],
   "source": [
    "type(uni[0])\n",
    "pd.DataFrame.from_dict(uni[0]).iloc[1]"
   ]
  },
  {
   "cell_type": "code",
   "execution_count": 127,
   "metadata": {},
   "outputs": [
    {
     "ename": "AttributeError",
     "evalue": "'list' object has no attribute 'items'",
     "output_type": "error",
     "traceback": [
      "\u001b[0;31m---------------------------------------------------------------------------\u001b[0m",
      "\u001b[0;31mAttributeError\u001b[0m                            Traceback (most recent call last)",
      "\u001b[1;32mUntitled-1.ipynb Cell 16'\u001b[0m in \u001b[0;36m<cell line: 1>\u001b[0;34m()\u001b[0m\n\u001b[0;32m----> <a href='vscode-notebook-cell:Untitled-1.ipynb?jupyter-notebook#ch0000013untitled?line=0'>1</a>\u001b[0m ab \u001b[39m=\u001b[39m pd\u001b[39m.\u001b[39mconcat({k: pd\u001b[39m.\u001b[39mDataFrame(v)\u001b[39m.\u001b[39mT \u001b[39mfor\u001b[39;00m k, v \u001b[39min\u001b[39;00m a\u001b[39m.\u001b[39;49mitems()}, axis\u001b[39m=\u001b[39m\u001b[39m0\u001b[39m)\n\u001b[1;32m      <a href='vscode-notebook-cell:Untitled-1.ipynb?jupyter-notebook#ch0000013untitled?line=1'>2</a>\u001b[0m ab\u001b[39m.\u001b[39mT\n",
      "\u001b[0;31mAttributeError\u001b[0m: 'list' object has no attribute 'items'"
     ]
    }
   ],
   "source": [
    "ab = pd.concat({k: pd.DataFrame(v).T for k, v in a.items()}, axis=0)\n",
    "ab.T"
   ]
  },
  {
   "cell_type": "code",
   "execution_count": null,
   "metadata": {},
   "outputs": [],
   "source": [
    "# funktion welche das entsprechende Dataframe ausspuckt\n",
    "import json\n",
    "import pandas.io.json\n",
    "\n",
    "def DF_from_json(filepath):\n",
    "\n",
    "with open('/Users/klaus/Documents/Alstin/founder.json') as json_data:\n",
    "    data = json.load(json_data)\n",
    "\n",
    "\n",
    "df = pd.DataFrame.from_dict(data, orient=\"index\")\n",
    "    "
   ]
  },
  {
   "cell_type": "code",
   "execution_count": 172,
   "metadata": {},
   "outputs": [
    {
     "name": "stdout",
     "output_type": "stream",
     "text": [
      "\n",
      "Usage:   \n",
      "  /Users/klaus/opt/miniconda3/bin/python -m pip install [options] <requirement specifier> [package-index-options] ...\n",
      "  /Users/klaus/opt/miniconda3/bin/python -m pip install [options] -r <requirements file> [package-index-options] ...\n",
      "  /Users/klaus/opt/miniconda3/bin/python -m pip install [options] [-e] <vcs project url> ...\n",
      "  /Users/klaus/opt/miniconda3/bin/python -m pip install [options] [-e] <local project path> ...\n",
      "  /Users/klaus/opt/miniconda3/bin/python -m pip install [options] <archive url/path> ...\n",
      "\n",
      "no such option: --pipreqs\n",
      "Note: you may need to restart the kernel to use updated packages.\n"
     ]
    }
   ],
   "source": [
    "pip install --pipreqs"
   ]
  },
  {
   "cell_type": "code",
   "execution_count": null,
   "metadata": {},
   "outputs": [],
   "source": []
  }
 ],
 "metadata": {
  "kernelspec": {
   "display_name": "Python 3.8.13 ('base')",
   "language": "python",
   "name": "python3"
  },
  "language_info": {
   "codemirror_mode": {
    "name": "ipython",
    "version": 3
   },
   "file_extension": ".py",
   "mimetype": "text/x-python",
   "name": "python",
   "nbconvert_exporter": "python",
   "pygments_lexer": "ipython3",
   "version": "3.8.13"
  },
  "orig_nbformat": 4,
  "vscode": {
   "interpreter": {
    "hash": "9f0e693fc01ef472273163c178969840eafeb355607774518d8d123aaad371ef"
   }
  }
 },
 "nbformat": 4,
 "nbformat_minor": 2
}
