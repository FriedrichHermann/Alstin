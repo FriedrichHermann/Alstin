{
 "cells": [
  {
   "cell_type": "code",
   "execution_count": 101,
   "metadata": {},
   "outputs": [],
   "source": [
    "import pandas as pd\n",
    "import numpy as np"
   ]
  },
  {
   "cell_type": "code",
   "execution_count": 102,
   "metadata": {},
   "outputs": [],
   "source": [
    "test_data_cb = pd.read_csv(\"/Users/klaus/Documents/Alstin/Outbound_All_deals__export_Jun-17-2022.csv\", sep=\";\")"
   ]
  },
  {
   "cell_type": "code",
   "execution_count": 103,
   "metadata": {},
   "outputs": [
    {
     "data": {
      "text/html": [
       "<div>\n",
       "<style scoped>\n",
       "    .dataframe tbody tr th:only-of-type {\n",
       "        vertical-align: middle;\n",
       "    }\n",
       "\n",
       "    .dataframe tbody tr th {\n",
       "        vertical-align: top;\n",
       "    }\n",
       "\n",
       "    .dataframe thead th {\n",
       "        text-align: right;\n",
       "    }\n",
       "</style>\n",
       "<table border=\"1\" class=\"dataframe\">\n",
       "  <thead>\n",
       "    <tr style=\"text-align: right;\">\n",
       "      <th></th>\n",
       "      <th>Affinity Row ID</th>\n",
       "      <th>Organization Id</th>\n",
       "      <th>Name</th>\n",
       "      <th>Website</th>\n",
       "      <th>Status</th>\n",
       "      <th>Description</th>\n",
       "      <th>Owner</th>\n",
       "      <th>Investment Size</th>\n",
       "      <th>Last Email</th>\n",
       "      <th>Reminders</th>\n",
       "      <th>...</th>\n",
       "      <th>CB Location (State) - Not available for export</th>\n",
       "      <th>CB Location (Country) - Not available for export</th>\n",
       "      <th>CB Industry - Not available for export</th>\n",
       "      <th>CB Investment Stage - Not available for export</th>\n",
       "      <th>Source</th>\n",
       "      <th>CB Last Funding Date - Not available for export</th>\n",
       "      <th>CB Investors - Not available for export</th>\n",
       "      <th>Lost Reason</th>\n",
       "      <th>Date Added</th>\n",
       "      <th>CB Description - Not available for export</th>\n",
       "    </tr>\n",
       "  </thead>\n",
       "  <tbody>\n",
       "    <tr>\n",
       "      <th>0</th>\n",
       "      <td>110549018</td>\n",
       "      <td>286182967</td>\n",
       "      <td>Let's Lama</td>\n",
       "      <td>NaN</td>\n",
       "      <td>Call / Meeting -&gt; move to dealflow</td>\n",
       "      <td>NaN</td>\n",
       "      <td>Christina Schmidt &lt;christina.schmidt@alstin.de&gt;</td>\n",
       "      <td>NaN</td>\n",
       "      <td>NaN</td>\n",
       "      <td>NaN</td>\n",
       "      <td>...</td>\n",
       "      <td>NaN</td>\n",
       "      <td>NaN</td>\n",
       "      <td>NaN</td>\n",
       "      <td>NaN</td>\n",
       "      <td>LinkedIn Navigator</td>\n",
       "      <td>NaN</td>\n",
       "      <td>NaN</td>\n",
       "      <td>NaN</td>\n",
       "      <td>06/13/2022</td>\n",
       "      <td>NaN</td>\n",
       "    </tr>\n",
       "    <tr>\n",
       "      <th>1</th>\n",
       "      <td>110547062</td>\n",
       "      <td>286181805</td>\n",
       "      <td>Steep</td>\n",
       "      <td>steep.app</td>\n",
       "      <td>Outreach done</td>\n",
       "      <td>NaN</td>\n",
       "      <td>Christina Schmidt &lt;christina.schmidt@alstin.de&gt;</td>\n",
       "      <td>NaN</td>\n",
       "      <td>NaN</td>\n",
       "      <td>NaN</td>\n",
       "      <td>...</td>\n",
       "      <td>NaN</td>\n",
       "      <td>NaN</td>\n",
       "      <td>NaN</td>\n",
       "      <td>NaN</td>\n",
       "      <td>LinkedIn Navigator</td>\n",
       "      <td>NaN</td>\n",
       "      <td>NaN</td>\n",
       "      <td>NaN</td>\n",
       "      <td>06/13/2022</td>\n",
       "      <td>NaN</td>\n",
       "    </tr>\n",
       "    <tr>\n",
       "      <th>2</th>\n",
       "      <td>110546996</td>\n",
       "      <td>286181449</td>\n",
       "      <td>Jetty</td>\n",
       "      <td>usejetty.com</td>\n",
       "      <td>Outreach done</td>\n",
       "      <td>NaN</td>\n",
       "      <td>Christina Schmidt &lt;christina.schmidt@alstin.de&gt;</td>\n",
       "      <td>NaN</td>\n",
       "      <td>NaN</td>\n",
       "      <td>NaN</td>\n",
       "      <td>...</td>\n",
       "      <td>NaN</td>\n",
       "      <td>NaN</td>\n",
       "      <td>NaN</td>\n",
       "      <td>NaN</td>\n",
       "      <td>LinkedIn Navigator</td>\n",
       "      <td>NaN</td>\n",
       "      <td>NaN</td>\n",
       "      <td>NaN</td>\n",
       "      <td>06/13/2022</td>\n",
       "      <td>NaN</td>\n",
       "    </tr>\n",
       "    <tr>\n",
       "      <th>3</th>\n",
       "      <td>110510705</td>\n",
       "      <td>286177187</td>\n",
       "      <td>tastric</td>\n",
       "      <td>tastric.com</td>\n",
       "      <td>1 Lost</td>\n",
       "      <td>Das Unternehmen entwickelt Software zur Analys...</td>\n",
       "      <td>Christina Schmidt &lt;christina.schmidt@alstin.de&gt;</td>\n",
       "      <td>NaN</td>\n",
       "      <td>NaN</td>\n",
       "      <td>NaN</td>\n",
       "      <td>...</td>\n",
       "      <td>NaN</td>\n",
       "      <td>NaN</td>\n",
       "      <td>NaN</td>\n",
       "      <td>NaN</td>\n",
       "      <td>Startupdetector - START</td>\n",
       "      <td>NaN</td>\n",
       "      <td>NaN</td>\n",
       "      <td>1 Sector / Business Model</td>\n",
       "      <td>06.12.2022</td>\n",
       "      <td>NaN</td>\n",
       "    </tr>\n",
       "    <tr>\n",
       "      <th>4</th>\n",
       "      <td>110510703</td>\n",
       "      <td>286177186</td>\n",
       "      <td>Studio Sterneck &amp; Co. KG</td>\n",
       "      <td>studio-sterneck.com</td>\n",
       "      <td>1 Lost</td>\n",
       "      <td>Das Unternehmen entwickelt Videospiele für den...</td>\n",
       "      <td>Philipp Rehsmann &lt;philipp.rehsmann@alstin.de&gt;</td>\n",
       "      <td>NaN</td>\n",
       "      <td>NaN</td>\n",
       "      <td>NaN</td>\n",
       "      <td>...</td>\n",
       "      <td>NaN</td>\n",
       "      <td>NaN</td>\n",
       "      <td>NaN</td>\n",
       "      <td>NaN</td>\n",
       "      <td>Startupdetector - START</td>\n",
       "      <td>NaN</td>\n",
       "      <td>NaN</td>\n",
       "      <td>2 Out of focus</td>\n",
       "      <td>06.12.2022</td>\n",
       "      <td>NaN</td>\n",
       "    </tr>\n",
       "  </tbody>\n",
       "</table>\n",
       "<p>5 rows × 22 columns</p>\n",
       "</div>"
      ],
      "text/plain": [
       "  Affinity Row ID Organization Id                      Name  \\\n",
       "0       110549018       286182967                Let's Lama   \n",
       "1       110547062       286181805                     Steep   \n",
       "2       110546996       286181449                     Jetty   \n",
       "3       110510705       286177187                   tastric   \n",
       "4       110510703       286177186  Studio Sterneck & Co. KG   \n",
       "\n",
       "               Website                              Status  \\\n",
       "0                  NaN  Call / Meeting -> move to dealflow   \n",
       "1            steep.app                       Outreach done   \n",
       "2         usejetty.com                       Outreach done   \n",
       "3          tastric.com                              1 Lost   \n",
       "4  studio-sterneck.com                              1 Lost   \n",
       "\n",
       "                                         Description  \\\n",
       "0                                                NaN   \n",
       "1                                                NaN   \n",
       "2                                                NaN   \n",
       "3  Das Unternehmen entwickelt Software zur Analys...   \n",
       "4  Das Unternehmen entwickelt Videospiele für den...   \n",
       "\n",
       "                                             Owner  Investment Size  \\\n",
       "0  Christina Schmidt <christina.schmidt@alstin.de>              NaN   \n",
       "1  Christina Schmidt <christina.schmidt@alstin.de>              NaN   \n",
       "2  Christina Schmidt <christina.schmidt@alstin.de>              NaN   \n",
       "3  Christina Schmidt <christina.schmidt@alstin.de>              NaN   \n",
       "4    Philipp Rehsmann <philipp.rehsmann@alstin.de>              NaN   \n",
       "\n",
       "  Last Email Reminders  ...  CB Location (State) - Not available for export  \\\n",
       "0        NaN       NaN  ...                                             NaN   \n",
       "1        NaN       NaN  ...                                             NaN   \n",
       "2        NaN       NaN  ...                                             NaN   \n",
       "3        NaN       NaN  ...                                             NaN   \n",
       "4        NaN       NaN  ...                                             NaN   \n",
       "\n",
       "  CB Location (Country) - Not available for export  \\\n",
       "0                                              NaN   \n",
       "1                                              NaN   \n",
       "2                                              NaN   \n",
       "3                                              NaN   \n",
       "4                                              NaN   \n",
       "\n",
       "  CB Industry - Not available for export  \\\n",
       "0                                    NaN   \n",
       "1                                    NaN   \n",
       "2                                    NaN   \n",
       "3                                    NaN   \n",
       "4                                    NaN   \n",
       "\n",
       "  CB Investment Stage - Not available for export                   Source  \\\n",
       "0                                            NaN       LinkedIn Navigator   \n",
       "1                                            NaN       LinkedIn Navigator   \n",
       "2                                            NaN       LinkedIn Navigator   \n",
       "3                                            NaN  Startupdetector - START   \n",
       "4                                            NaN  Startupdetector - START   \n",
       "\n",
       "  CB Last Funding Date - Not available for export  \\\n",
       "0                                             NaN   \n",
       "1                                             NaN   \n",
       "2                                             NaN   \n",
       "3                                             NaN   \n",
       "4                                             NaN   \n",
       "\n",
       "  CB Investors - Not available for export                Lost Reason  \\\n",
       "0                                     NaN                        NaN   \n",
       "1                                     NaN                        NaN   \n",
       "2                                     NaN                        NaN   \n",
       "3                                     NaN  1 Sector / Business Model   \n",
       "4                                     NaN             2 Out of focus   \n",
       "\n",
       "   Date Added CB Description - Not available for export  \n",
       "0  06/13/2022                                       NaN  \n",
       "1  06/13/2022                                       NaN  \n",
       "2  06/13/2022                                       NaN  \n",
       "3  06.12.2022                                       NaN  \n",
       "4  06.12.2022                                       NaN  \n",
       "\n",
       "[5 rows x 22 columns]"
      ]
     },
     "execution_count": 103,
     "metadata": {},
     "output_type": "execute_result"
    }
   ],
   "source": [
    "test_data_cb.head()"
   ]
  },
  {
   "cell_type": "code",
   "execution_count": 104,
   "metadata": {},
   "outputs": [
    {
     "name": "stdout",
     "output_type": "stream",
     "text": [
      "Affinity Row ID\n",
      "Organization Id\n",
      "Name\n",
      "Website\n",
      "Status\n",
      "Description\n",
      "Owner\n",
      "Investment Size\n",
      "Last Email\n",
      "Reminders\n",
      "CB Location (Address) - Not available for export\n",
      "CB Location (City) - Not available for export\n",
      "CB Location (State) - Not available for export\n",
      "CB Location (Country) - Not available for export\n",
      "CB Industry - Not available for export\n",
      "CB Investment Stage - Not available for export\n",
      "Source\n",
      "CB Last Funding Date - Not available for export\n",
      "CB Investors - Not available for export\n",
      "Lost Reason\n",
      "Date Added\n",
      "CB Description - Not available for export\n"
     ]
    }
   ],
   "source": [
    "for col in test_data_cb:\n",
    "    print(col)"
   ]
  },
  {
   "cell_type": "code",
   "execution_count": 105,
   "metadata": {},
   "outputs": [],
   "source": [
    "test_data_cb.drop([\"Investment Size\", \"Last Email\", \"Reminders\",\"CB Location (Address) - Not available for export\",\n",
    "\"CB Location (City) - Not available for export\",\n",
    "\"CB Location (State) - Not available for export\",\n",
    "\"CB Location (Country) - Not available for export\",\n",
    "\"CB Industry - Not available for export\",\n",
    "\"CB Investment Stage - Not available for export\",\n",
    "\"CB Last Funding Date - Not available for export\",\n",
    "\"CB Investors - Not available for export\",\n",
    "\"CB Description - Not available for export\",\"Owner\",\"Website\"], axis=1, inplace=True)"
   ]
  },
  {
   "cell_type": "code",
   "execution_count": null,
   "metadata": {},
   "outputs": [],
   "source": []
  },
  {
   "cell_type": "code",
   "execution_count": 106,
   "metadata": {},
   "outputs": [
    {
     "data": {
      "text/plain": [
       "4624"
      ]
     },
     "execution_count": 106,
     "metadata": {},
     "output_type": "execute_result"
    }
   ],
   "source": [
    "len(test_data_cb)"
   ]
  },
  {
   "cell_type": "code",
   "execution_count": 107,
   "metadata": {},
   "outputs": [
    {
     "data": {
      "text/html": [
       "<div>\n",
       "<style scoped>\n",
       "    .dataframe tbody tr th:only-of-type {\n",
       "        vertical-align: middle;\n",
       "    }\n",
       "\n",
       "    .dataframe tbody tr th {\n",
       "        vertical-align: top;\n",
       "    }\n",
       "\n",
       "    .dataframe thead th {\n",
       "        text-align: right;\n",
       "    }\n",
       "</style>\n",
       "<table border=\"1\" class=\"dataframe\">\n",
       "  <thead>\n",
       "    <tr style=\"text-align: right;\">\n",
       "      <th></th>\n",
       "      <th>Affinity Row ID</th>\n",
       "      <th>Organization Id</th>\n",
       "      <th>Name</th>\n",
       "      <th>Status</th>\n",
       "      <th>Description</th>\n",
       "      <th>Source</th>\n",
       "      <th>Lost Reason</th>\n",
       "      <th>Date Added</th>\n",
       "    </tr>\n",
       "  </thead>\n",
       "  <tbody>\n",
       "    <tr>\n",
       "      <th>0</th>\n",
       "      <td>110549018</td>\n",
       "      <td>286182967</td>\n",
       "      <td>Let's Lama</td>\n",
       "      <td>Call / Meeting -&gt; move to dealflow</td>\n",
       "      <td>NaN</td>\n",
       "      <td>LinkedIn Navigator</td>\n",
       "      <td>NaN</td>\n",
       "      <td>06/13/2022</td>\n",
       "    </tr>\n",
       "    <tr>\n",
       "      <th>1</th>\n",
       "      <td>110547062</td>\n",
       "      <td>286181805</td>\n",
       "      <td>Steep</td>\n",
       "      <td>Outreach done</td>\n",
       "      <td>NaN</td>\n",
       "      <td>LinkedIn Navigator</td>\n",
       "      <td>NaN</td>\n",
       "      <td>06/13/2022</td>\n",
       "    </tr>\n",
       "    <tr>\n",
       "      <th>2</th>\n",
       "      <td>110546996</td>\n",
       "      <td>286181449</td>\n",
       "      <td>Jetty</td>\n",
       "      <td>Outreach done</td>\n",
       "      <td>NaN</td>\n",
       "      <td>LinkedIn Navigator</td>\n",
       "      <td>NaN</td>\n",
       "      <td>06/13/2022</td>\n",
       "    </tr>\n",
       "    <tr>\n",
       "      <th>3</th>\n",
       "      <td>110510705</td>\n",
       "      <td>286177187</td>\n",
       "      <td>tastric</td>\n",
       "      <td>1 Lost</td>\n",
       "      <td>Das Unternehmen entwickelt Software zur Analys...</td>\n",
       "      <td>Startupdetector - START</td>\n",
       "      <td>1 Sector / Business Model</td>\n",
       "      <td>06.12.2022</td>\n",
       "    </tr>\n",
       "    <tr>\n",
       "      <th>4</th>\n",
       "      <td>110510703</td>\n",
       "      <td>286177186</td>\n",
       "      <td>Studio Sterneck &amp; Co. KG</td>\n",
       "      <td>1 Lost</td>\n",
       "      <td>Das Unternehmen entwickelt Videospiele für den...</td>\n",
       "      <td>Startupdetector - START</td>\n",
       "      <td>2 Out of focus</td>\n",
       "      <td>06.12.2022</td>\n",
       "    </tr>\n",
       "  </tbody>\n",
       "</table>\n",
       "</div>"
      ],
      "text/plain": [
       "  Affinity Row ID Organization Id                      Name  \\\n",
       "0       110549018       286182967                Let's Lama   \n",
       "1       110547062       286181805                     Steep   \n",
       "2       110546996       286181449                     Jetty   \n",
       "3       110510705       286177187                   tastric   \n",
       "4       110510703       286177186  Studio Sterneck & Co. KG   \n",
       "\n",
       "                               Status  \\\n",
       "0  Call / Meeting -> move to dealflow   \n",
       "1                       Outreach done   \n",
       "2                       Outreach done   \n",
       "3                              1 Lost   \n",
       "4                              1 Lost   \n",
       "\n",
       "                                         Description                   Source  \\\n",
       "0                                                NaN       LinkedIn Navigator   \n",
       "1                                                NaN       LinkedIn Navigator   \n",
       "2                                                NaN       LinkedIn Navigator   \n",
       "3  Das Unternehmen entwickelt Software zur Analys...  Startupdetector - START   \n",
       "4  Das Unternehmen entwickelt Videospiele für den...  Startupdetector - START   \n",
       "\n",
       "                 Lost Reason  Date Added  \n",
       "0                        NaN  06/13/2022  \n",
       "1                        NaN  06/13/2022  \n",
       "2                        NaN  06/13/2022  \n",
       "3  1 Sector / Business Model  06.12.2022  \n",
       "4             2 Out of focus  06.12.2022  "
      ]
     },
     "execution_count": 107,
     "metadata": {},
     "output_type": "execute_result"
    }
   ],
   "source": [
    "test_data_cb.head()"
   ]
  },
  {
   "cell_type": "code",
   "execution_count": 108,
   "metadata": {},
   "outputs": [
    {
     "data": {
      "text/plain": [
       "array(['Call / Meeting -> move to dealflow', 'Outreach done', '1 Lost',\n",
       "       'Incoming', 'Waitlist / later', 'To be contacted', nan, ' Siemens',\n",
       "       ' etc.) as it creates coherence in systems at the most basic level of energy flow.\"',\n",
       "       ' or custody providers',\n",
       "       ' motivating user journey and flexibility to support their employees’ health and happiness. Helping and motivating to live a more happy and healthier life. ',\n",
       "       '2nd outreach done',\n",
       "       'Paula Rappenglück <paula.rappenglueck@alstin.de>', '05.11.2022'],\n",
       "      dtype=object)"
      ]
     },
     "execution_count": 108,
     "metadata": {},
     "output_type": "execute_result"
    }
   ],
   "source": [
    "test_data_cb[\"Status\"].unique()"
   ]
  },
  {
   "cell_type": "code",
   "execution_count": 109,
   "metadata": {},
   "outputs": [
    {
     "data": {
      "text/html": [
       "<div>\n",
       "<style scoped>\n",
       "    .dataframe tbody tr th:only-of-type {\n",
       "        vertical-align: middle;\n",
       "    }\n",
       "\n",
       "    .dataframe tbody tr th {\n",
       "        vertical-align: top;\n",
       "    }\n",
       "\n",
       "    .dataframe thead th {\n",
       "        text-align: right;\n",
       "    }\n",
       "</style>\n",
       "<table border=\"1\" class=\"dataframe\">\n",
       "  <thead>\n",
       "    <tr style=\"text-align: right;\">\n",
       "      <th></th>\n",
       "      <th>Affinity Row ID</th>\n",
       "      <th>Organization Id</th>\n",
       "      <th>Name</th>\n",
       "      <th>Status</th>\n",
       "      <th>Description</th>\n",
       "      <th>Source</th>\n",
       "      <th>Lost Reason</th>\n",
       "      <th>Date Added</th>\n",
       "    </tr>\n",
       "  </thead>\n",
       "  <tbody>\n",
       "    <tr>\n",
       "      <th>2825</th>\n",
       "      <td>We partner with best in class wellbeing provid...</td>\n",
       "      <td>offering smart personalized feel good journeys</td>\n",
       "      <td>best brands &amp; products</td>\n",
       "      <td>motivating user journey and flexibility to su...</td>\n",
       "      <td>NaN</td>\n",
       "      <td>NaN</td>\n",
       "      <td>NaN</td>\n",
       "      <td>NaN</td>\n",
       "    </tr>\n",
       "  </tbody>\n",
       "</table>\n",
       "</div>"
      ],
      "text/plain": [
       "                                        Affinity Row ID  \\\n",
       "2825  We partner with best in class wellbeing provid...   \n",
       "\n",
       "                                      Organization Id  \\\n",
       "2825   offering smart personalized feel good journeys   \n",
       "\n",
       "                         Name  \\\n",
       "2825   best brands & products   \n",
       "\n",
       "                                                 Status Description Source  \\\n",
       "2825   motivating user journey and flexibility to su...         NaN    NaN   \n",
       "\n",
       "     Lost Reason Date Added  \n",
       "2825         NaN        NaN  "
      ]
     },
     "execution_count": 109,
     "metadata": {},
     "output_type": "execute_result"
    }
   ],
   "source": [
    "test_data_cb.loc[test_data_cb['Status'] == \" motivating user journey and flexibility to support their employees’ health and happiness. Helping and motivating to live a more happy and healthier life. \"]"
   ]
  },
  {
   "cell_type": "code",
   "execution_count": 110,
   "metadata": {},
   "outputs": [
    {
     "data": {
      "text/plain": [
       "0       110549018\n",
       "1       110547062\n",
       "2       110546996\n",
       "3       110510705\n",
       "4       110510703\n",
       "          ...    \n",
       "4619     33580184\n",
       "4620     33578800\n",
       "4621     33535417\n",
       "4622     33535348\n",
       "4623     33535133\n",
       "Name: Affinity Row ID, Length: 4624, dtype: object"
      ]
     },
     "execution_count": 110,
     "metadata": {},
     "output_type": "execute_result"
    }
   ],
   "source": [
    "test_data_cb.iloc[0:][\"Affinity Row ID\"]"
   ]
  },
  {
   "cell_type": "code",
   "execution_count": 111,
   "metadata": {},
   "outputs": [],
   "source": [
    "test_data_cb[\"Affinity Row ID\"] = pd.to_numeric(test_data_cb[\"Affinity Row ID\"], errors=\"coerce\")"
   ]
  },
  {
   "cell_type": "code",
   "execution_count": 112,
   "metadata": {},
   "outputs": [
    {
     "data": {
      "text/plain": [
       "True"
      ]
     },
     "execution_count": 112,
     "metadata": {},
     "output_type": "execute_result"
    }
   ],
   "source": [
    "test_data_cb.iloc[0:][\"Affinity Row ID\"].dtype.kind in \"f\""
   ]
  },
  {
   "cell_type": "code",
   "execution_count": 113,
   "metadata": {},
   "outputs": [
    {
     "name": "stdout",
     "output_type": "stream",
     "text": [
      "Affinity Row ID     139\n",
      "Organization Id      65\n",
      "Name                117\n",
      "Status              133\n",
      "Description         674\n",
      "Source              402\n",
      "Lost Reason        1340\n",
      "Date Added          350\n",
      "dtype: int64\n",
      "Number of Rows: 4624\n"
     ]
    }
   ],
   "source": [
    "print(test_data_cb.isna().sum())\n",
    "print(\"Number of Rows:\",len(test_data_cb))"
   ]
  },
  {
   "cell_type": "code",
   "execution_count": 114,
   "metadata": {},
   "outputs": [
    {
     "data": {
      "text/plain": [
       "array(['Call / Meeting -> move to dealflow', 'Outreach done', '1 Lost',\n",
       "       'Incoming', 'Waitlist / later', 'To be contacted', nan, ' Siemens',\n",
       "       ' etc.) as it creates coherence in systems at the most basic level of energy flow.\"',\n",
       "       ' or custody providers',\n",
       "       ' motivating user journey and flexibility to support their employees’ health and happiness. Helping and motivating to live a more happy and healthier life. ',\n",
       "       '2nd outreach done',\n",
       "       'Paula Rappenglück <paula.rappenglueck@alstin.de>', '05.11.2022'],\n",
       "      dtype=object)"
      ]
     },
     "execution_count": 114,
     "metadata": {},
     "output_type": "execute_result"
    }
   ],
   "source": [
    "test_data_cb[\"Status\"].unique()"
   ]
  },
  {
   "cell_type": "code",
   "execution_count": 115,
   "metadata": {},
   "outputs": [],
   "source": [
    "good_stat_values=[\" Siemens\", ' etc.) as it creates coherence in systems at the most basic level of energy flow.\"', \" or custody providers\",\" motivating user journey and flexibility to support their employees’ health and happiness. Helping and motivating to live a more happy and healthier life. \", \"Paula Rappenglück <paula.rappenglueck@alstin.de>\", \"05.11.2022\" ]"
   ]
  },
  {
   "cell_type": "code",
   "execution_count": 116,
   "metadata": {},
   "outputs": [],
   "source": [
    "test_data_cb = test_data_cb[~test_data_cb[\"Status\"].isin(good_stat_values)]"
   ]
  },
  {
   "cell_type": "code",
   "execution_count": 117,
   "metadata": {},
   "outputs": [
    {
     "data": {
      "text/plain": [
       "array(['Call / Meeting -> move to dealflow', 'Outreach done', '1 Lost',\n",
       "       'Incoming', 'Waitlist / later', 'To be contacted', nan,\n",
       "       '2nd outreach done'], dtype=object)"
      ]
     },
     "execution_count": 117,
     "metadata": {},
     "output_type": "execute_result"
    }
   ],
   "source": [
    "test_data_cb[\"Status\"].unique()"
   ]
  },
  {
   "cell_type": "code",
   "execution_count": 118,
   "metadata": {},
   "outputs": [
    {
     "data": {
      "text/html": [
       "<div>\n",
       "<style scoped>\n",
       "    .dataframe tbody tr th:only-of-type {\n",
       "        vertical-align: middle;\n",
       "    }\n",
       "\n",
       "    .dataframe tbody tr th {\n",
       "        vertical-align: top;\n",
       "    }\n",
       "\n",
       "    .dataframe thead th {\n",
       "        text-align: right;\n",
       "    }\n",
       "</style>\n",
       "<table border=\"1\" class=\"dataframe\">\n",
       "  <thead>\n",
       "    <tr style=\"text-align: right;\">\n",
       "      <th></th>\n",
       "      <th>Affinity Row ID</th>\n",
       "      <th>Organization Id</th>\n",
       "      <th>Name</th>\n",
       "      <th>Status</th>\n",
       "      <th>Description</th>\n",
       "      <th>Source</th>\n",
       "      <th>Lost Reason</th>\n",
       "      <th>Date Added</th>\n",
       "    </tr>\n",
       "  </thead>\n",
       "  <tbody>\n",
       "    <tr>\n",
       "      <th>0</th>\n",
       "      <td>110549018.0</td>\n",
       "      <td>286182967</td>\n",
       "      <td>Let's Lama</td>\n",
       "      <td>Call / Meeting -&gt; move to dealflow</td>\n",
       "      <td>NaN</td>\n",
       "      <td>LinkedIn Navigator</td>\n",
       "      <td>NaN</td>\n",
       "      <td>06/13/2022</td>\n",
       "    </tr>\n",
       "    <tr>\n",
       "      <th>1</th>\n",
       "      <td>110547062.0</td>\n",
       "      <td>286181805</td>\n",
       "      <td>Steep</td>\n",
       "      <td>Outreach done</td>\n",
       "      <td>NaN</td>\n",
       "      <td>LinkedIn Navigator</td>\n",
       "      <td>NaN</td>\n",
       "      <td>06/13/2022</td>\n",
       "    </tr>\n",
       "    <tr>\n",
       "      <th>2</th>\n",
       "      <td>110546996.0</td>\n",
       "      <td>286181449</td>\n",
       "      <td>Jetty</td>\n",
       "      <td>Outreach done</td>\n",
       "      <td>NaN</td>\n",
       "      <td>LinkedIn Navigator</td>\n",
       "      <td>NaN</td>\n",
       "      <td>06/13/2022</td>\n",
       "    </tr>\n",
       "    <tr>\n",
       "      <th>3</th>\n",
       "      <td>110510705.0</td>\n",
       "      <td>286177187</td>\n",
       "      <td>tastric</td>\n",
       "      <td>1 Lost</td>\n",
       "      <td>Das Unternehmen entwickelt Software zur Analys...</td>\n",
       "      <td>Startupdetector - START</td>\n",
       "      <td>1 Sector / Business Model</td>\n",
       "      <td>06.12.2022</td>\n",
       "    </tr>\n",
       "    <tr>\n",
       "      <th>4</th>\n",
       "      <td>110510703.0</td>\n",
       "      <td>286177186</td>\n",
       "      <td>Studio Sterneck &amp; Co. KG</td>\n",
       "      <td>1 Lost</td>\n",
       "      <td>Das Unternehmen entwickelt Videospiele für den...</td>\n",
       "      <td>Startupdetector - START</td>\n",
       "      <td>2 Out of focus</td>\n",
       "      <td>06.12.2022</td>\n",
       "    </tr>\n",
       "  </tbody>\n",
       "</table>\n",
       "</div>"
      ],
      "text/plain": [
       "   Affinity Row ID Organization Id                      Name  \\\n",
       "0      110549018.0       286182967                Let's Lama   \n",
       "1      110547062.0       286181805                     Steep   \n",
       "2      110546996.0       286181449                     Jetty   \n",
       "3      110510705.0       286177187                   tastric   \n",
       "4      110510703.0       286177186  Studio Sterneck & Co. KG   \n",
       "\n",
       "                               Status  \\\n",
       "0  Call / Meeting -> move to dealflow   \n",
       "1                       Outreach done   \n",
       "2                       Outreach done   \n",
       "3                              1 Lost   \n",
       "4                              1 Lost   \n",
       "\n",
       "                                         Description                   Source  \\\n",
       "0                                                NaN       LinkedIn Navigator   \n",
       "1                                                NaN       LinkedIn Navigator   \n",
       "2                                                NaN       LinkedIn Navigator   \n",
       "3  Das Unternehmen entwickelt Software zur Analys...  Startupdetector - START   \n",
       "4  Das Unternehmen entwickelt Videospiele für den...  Startupdetector - START   \n",
       "\n",
       "                 Lost Reason  Date Added  \n",
       "0                        NaN  06/13/2022  \n",
       "1                        NaN  06/13/2022  \n",
       "2                        NaN  06/13/2022  \n",
       "3  1 Sector / Business Model  06.12.2022  \n",
       "4             2 Out of focus  06.12.2022  "
      ]
     },
     "execution_count": 118,
     "metadata": {},
     "output_type": "execute_result"
    }
   ],
   "source": [
    "test_data_cb.head(b)"
   ]
  },
  {
   "cell_type": "code",
   "execution_count": null,
   "metadata": {},
   "outputs": [],
   "source": []
  }
 ],
 "metadata": {
  "kernelspec": {
   "display_name": "Python 3.8.5 ('base')",
   "language": "python",
   "name": "python3"
  },
  "language_info": {
   "codemirror_mode": {
    "name": "ipython",
    "version": 3
   },
   "file_extension": ".py",
   "mimetype": "text/x-python",
   "name": "python",
   "nbconvert_exporter": "python",
   "pygments_lexer": "ipython3",
   "version": "3.8.5"
  },
  "orig_nbformat": 4,
  "vscode": {
   "interpreter": {
    "hash": "9f0e693fc01ef472273163c178969840eafeb355607774518d8d123aaad371ef"
   }
  }
 },
 "nbformat": 4,
 "nbformat_minor": 2
}
