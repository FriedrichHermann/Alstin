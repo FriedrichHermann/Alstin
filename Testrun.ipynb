{
 "cells": [
  {
   "cell_type": "code",
   "execution_count": 2,
   "metadata": {},
   "outputs": [],
   "source": [
    "import pandas as pd\n",
    "import numpy as np"
   ]
  },
  {
   "cell_type": "code",
   "execution_count": 37,
   "metadata": {},
   "outputs": [],
   "source": [
    "def status_to_numerical(Data, Column: str, list_1, list_0):\n",
    "    for i in list_1:\n",
    "        Data[Column].replace(i,1, inplace=True)\n",
    "    for i in list_0:\n",
    "        Data[Column].replace(i,0, inplace=True)\n",
    "    return Data\n",
    "                    "
   ]
  },
  {
   "cell_type": "code",
   "execution_count": 50,
   "metadata": {},
   "outputs": [],
   "source": [
    "def data_importer(path_to_file: str, columns_wanted=['Affinity Row ID','Organization Id','Name','Status','Description','Source','Lost Reason','Date Added']):\n",
    "    test_data_cb = pd.read_csv(path_to_file, sep=\";\")\n",
    "    test_data_cb=test_data_cb[columns_wanted] #Inserting Data and Filtering out all unwanted columns\n",
    "\n",
    "    test_data_cb[\"Affinity Row ID\"] = pd.to_numeric(test_data_cb[\"Affinity Row ID\"], errors=\"coerce\")\n",
    "    if test_data_cb.iloc[0:][\"Affinity Row ID\"].dtype.kind in \"f\" == False: #checking for non numeric values in Row Affintiy Row ID\n",
    "        print(\"Non Numeric Values Remain in Affinity Row ID\")\n",
    "    else:\n",
    "        test_data_cb=test_data_cb[~test_data_cb[\"Affinity Row ID\"].isna()]\n",
    "\n",
    "        if test_data_cb.isna().sum()[\"Affinity Row ID\"] !=0:\n",
    "            print(\"Still na values in Affinty Row ID\")\n",
    "        else: #filtering the Status Column for unwated entries\n",
    "            list_rejections = [\"1 Lost\"]\n",
    "            list_approvals=['Call / Meeting -> move to dealflow', 'Outreach done', 'Incoming', 'Waitlist / later', 'To be contacted', '2nd outreach done']\n",
    "            test_data_cb = test_data_cb[test_data_cb[\"Status\"].isin(list_approvals+list_rejections)]\n",
    "            test_data_cb_lna=test_data_cb.dropna(subset=[\"Status\"])\n",
    "            if sum(test_data_cb_lna[\"Status\"].isna()) != 0:\n",
    "                print(\"NA Values in Column Status remaining\")\n",
    "            else:\n",
    "                test_data_cb_lna=status_to_numerical(test_data_cb_lna, \"Status\", list_approvals,list_rejections)\n",
    "                \n",
    "        return pd.DataFrame(test_data_cb_lna)\n",
    "        \n",
    "\n",
    "                \n",
    "\n",
    "                \n",
    "                \n",
    "\n",
    "\n",
    "\n",
    "        \n"
   ]
  }
 ],
 "metadata": {
  "kernelspec": {
   "display_name": "Python 3.8.5 ('base')",
   "language": "python",
   "name": "python3"
  },
  "language_info": {
   "codemirror_mode": {
    "name": "ipython",
    "version": 3
   },
   "file_extension": ".py",
   "mimetype": "text/x-python",
   "name": "python",
   "nbconvert_exporter": "python",
   "pygments_lexer": "ipython3",
   "version": "3.8.13"
  },
  "orig_nbformat": 4,
  "vscode": {
   "interpreter": {
    "hash": "9f0e693fc01ef472273163c178969840eafeb355607774518d8d123aaad371ef"
   }
  }
 },
 "nbformat": 4,
 "nbformat_minor": 2
}
